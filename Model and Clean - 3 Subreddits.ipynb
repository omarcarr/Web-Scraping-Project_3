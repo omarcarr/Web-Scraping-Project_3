{
 "cells": [
  {
   "cell_type": "markdown",
   "metadata": {},
   "source": [
    "## Now that we have data, let's make it look \"pretty\" #RIPBurtReynolds"
   ]
  },
  {
   "cell_type": "code",
   "execution_count": 1,
   "metadata": {},
   "outputs": [
    {
     "name": "stderr",
     "output_type": "stream",
     "text": [
      "/anaconda3/lib/python3.6/site-packages/nltk/twitter/__init__.py:20: UserWarning: The twython library has not been installed. Some functionality from the twitter package will not be available.\n",
      "  warnings.warn(\"The twython library has not been installed. \"\n"
     ]
    }
   ],
   "source": [
    "from bs4 import BeautifulSoup\n",
    "\n",
    "import nltk\n",
    "import pandas as pd\n",
    "import requests\n",
    "from time import time\n",
    "\n",
    "import matplotlib.pyplot as plt\n",
    "import seaborn as sns\n",
    "\n",
    "import numpy as np\n",
    "\n",
    "\n",
    "from nltk.sentiment.vader import SentimentIntensityAnalyzer\n",
    "from nltk.stem import WordNetLemmatizer\n",
    "\n",
    "from sklearn import metrics\n",
    "\n",
    "from sklearn.base import BaseEstimator, TransformerMixin\n",
    "from sklearn.ensemble import ExtraTreesClassifier, RandomForestClassifier, AdaBoostClassifier, GradientBoostingClassifier, VotingClassifier\n",
    "from sklearn.feature_extraction import stop_words\n",
    "from sklearn.feature_extraction.text import CountVectorizer, TfidfVectorizer\n",
    "from sklearn.linear_model import LogisticRegressionCV\n",
    "from sklearn.metrics import classification_report\n",
    "from sklearn.model_selection import GridSearchCV, train_test_split\n",
    "from sklearn.naive_bayes import MultinomialNB\n",
    "from sklearn.neighbors import KNeighborsClassifier\n",
    "from sklearn.pipeline import FeatureUnion, Pipeline\n",
    "from sklearn.preprocessing import StandardScaler\n",
    "from sklearn.svm import SVC\n",
    "from sklearn.tree import DecisionTreeClassifier"
   ]
  },
  {
   "cell_type": "code",
   "execution_count": 2,
   "metadata": {},
   "outputs": [],
   "source": [
    "lakers = pd.read_csv('lakers scrape 2018-09-07 15:00:39.csv')\n",
    "cavs = pd.read_csv('cavs scrape 2018-09-07 15:00:39.csv')\n",
    "nba = pd.read_csv('nba scrape 2018-09-07 15:00:39.csv')"
   ]
  },
  {
   "cell_type": "code",
   "execution_count": 3,
   "metadata": {},
   "outputs": [
    {
     "data": {
      "text/html": [
       "<div>\n",
       "<style scoped>\n",
       "    .dataframe tbody tr th:only-of-type {\n",
       "        vertical-align: middle;\n",
       "    }\n",
       "\n",
       "    .dataframe tbody tr th {\n",
       "        vertical-align: top;\n",
       "    }\n",
       "\n",
       "    .dataframe thead th {\n",
       "        text-align: right;\n",
       "    }\n",
       "</style>\n",
       "<table border=\"1\" class=\"dataframe\">\n",
       "  <thead>\n",
       "    <tr style=\"text-align: right;\">\n",
       "      <th></th>\n",
       "      <th>index</th>\n",
       "      <th>approved_at_utc</th>\n",
       "      <th>approved_by</th>\n",
       "      <th>archived</th>\n",
       "      <th>author</th>\n",
       "      <th>author_cakeday</th>\n",
       "      <th>author_flair_background_color</th>\n",
       "      <th>author_flair_css_class</th>\n",
       "      <th>author_flair_richtext</th>\n",
       "      <th>author_flair_template_id</th>\n",
       "      <th>...</th>\n",
       "      <th>thumbnail_height</th>\n",
       "      <th>thumbnail_width</th>\n",
       "      <th>title</th>\n",
       "      <th>ups</th>\n",
       "      <th>url</th>\n",
       "      <th>user_reports</th>\n",
       "      <th>view_count</th>\n",
       "      <th>visited</th>\n",
       "      <th>whitelist_status</th>\n",
       "      <th>wls</th>\n",
       "    </tr>\n",
       "  </thead>\n",
       "  <tbody>\n",
       "    <tr>\n",
       "      <th>0</th>\n",
       "      <td>0</td>\n",
       "      <td>NaN</td>\n",
       "      <td>NaN</td>\n",
       "      <td>False</td>\n",
       "      <td>AutoModerator</td>\n",
       "      <td>NaN</td>\n",
       "      <td>NaN</td>\n",
       "      <td>NaN</td>\n",
       "      <td>[]</td>\n",
       "      <td>NaN</td>\n",
       "      <td>...</td>\n",
       "      <td>NaN</td>\n",
       "      <td>NaN</td>\n",
       "      <td>Weekly Lakers Ticket Sales (September 01 - Sep...</td>\n",
       "      <td>16</td>\n",
       "      <td>https://www.reddit.com/r/lakers/comments/9c485...</td>\n",
       "      <td>[]</td>\n",
       "      <td>NaN</td>\n",
       "      <td>False</td>\n",
       "      <td>all_ads</td>\n",
       "      <td>6</td>\n",
       "    </tr>\n",
       "    <tr>\n",
       "      <th>1</th>\n",
       "      <td>1</td>\n",
       "      <td>NaN</td>\n",
       "      <td>NaN</td>\n",
       "      <td>False</td>\n",
       "      <td>AutoModerator</td>\n",
       "      <td>NaN</td>\n",
       "      <td>NaN</td>\n",
       "      <td>NaN</td>\n",
       "      <td>[]</td>\n",
       "      <td>NaN</td>\n",
       "      <td>...</td>\n",
       "      <td>NaN</td>\n",
       "      <td>NaN</td>\n",
       "      <td>Daily Off Season Lakers Discussion Thread - Se...</td>\n",
       "      <td>5</td>\n",
       "      <td>https://www.reddit.com/r/lakers/comments/9dupc...</td>\n",
       "      <td>[]</td>\n",
       "      <td>NaN</td>\n",
       "      <td>False</td>\n",
       "      <td>all_ads</td>\n",
       "      <td>6</td>\n",
       "    </tr>\n",
       "    <tr>\n",
       "      <th>2</th>\n",
       "      <td>2</td>\n",
       "      <td>NaN</td>\n",
       "      <td>NaN</td>\n",
       "      <td>False</td>\n",
       "      <td>Luvsicpt2</td>\n",
       "      <td>NaN</td>\n",
       "      <td>NaN</td>\n",
       "      <td>black</td>\n",
       "      <td>[]</td>\n",
       "      <td>b2acfc2e-6a1a-11e5-8246-0e49db09c135</td>\n",
       "      <td>...</td>\n",
       "      <td>140.0</td>\n",
       "      <td>140.0</td>\n",
       "      <td>Playing 2k19 when...</td>\n",
       "      <td>116</td>\n",
       "      <td>https://i.imgur.com/VCe3veY.jpg</td>\n",
       "      <td>[]</td>\n",
       "      <td>NaN</td>\n",
       "      <td>False</td>\n",
       "      <td>all_ads</td>\n",
       "      <td>6</td>\n",
       "    </tr>\n",
       "    <tr>\n",
       "      <th>3</th>\n",
       "      <td>3</td>\n",
       "      <td>NaN</td>\n",
       "      <td>NaN</td>\n",
       "      <td>False</td>\n",
       "      <td>sevens777</td>\n",
       "      <td>NaN</td>\n",
       "      <td>NaN</td>\n",
       "      <td>NaN</td>\n",
       "      <td>[]</td>\n",
       "      <td>NaN</td>\n",
       "      <td>...</td>\n",
       "      <td>140.0</td>\n",
       "      <td>140.0</td>\n",
       "      <td>The King loves staring at his enemies. Even in...</td>\n",
       "      <td>332</td>\n",
       "      <td>https://i.redd.it/s0z8yp6k2sk11.jpg</td>\n",
       "      <td>[]</td>\n",
       "      <td>NaN</td>\n",
       "      <td>False</td>\n",
       "      <td>all_ads</td>\n",
       "      <td>6</td>\n",
       "    </tr>\n",
       "    <tr>\n",
       "      <th>4</th>\n",
       "      <td>4</td>\n",
       "      <td>NaN</td>\n",
       "      <td>NaN</td>\n",
       "      <td>False</td>\n",
       "      <td>sevens777</td>\n",
       "      <td>NaN</td>\n",
       "      <td>NaN</td>\n",
       "      <td>NaN</td>\n",
       "      <td>[]</td>\n",
       "      <td>NaN</td>\n",
       "      <td>...</td>\n",
       "      <td>140.0</td>\n",
       "      <td>140.0</td>\n",
       "      <td>LeBron out there being the King of NY</td>\n",
       "      <td>138</td>\n",
       "      <td>https://i.redd.it/llb3v0512sk11.jpg</td>\n",
       "      <td>[]</td>\n",
       "      <td>NaN</td>\n",
       "      <td>False</td>\n",
       "      <td>all_ads</td>\n",
       "      <td>6</td>\n",
       "    </tr>\n",
       "  </tbody>\n",
       "</table>\n",
       "<p>5 rows × 98 columns</p>\n",
       "</div>"
      ],
      "text/plain": [
       "   index  approved_at_utc  approved_by  archived         author  \\\n",
       "0      0              NaN          NaN     False  AutoModerator   \n",
       "1      1              NaN          NaN     False  AutoModerator   \n",
       "2      2              NaN          NaN     False      Luvsicpt2   \n",
       "3      3              NaN          NaN     False      sevens777   \n",
       "4      4              NaN          NaN     False      sevens777   \n",
       "\n",
       "  author_cakeday  author_flair_background_color author_flair_css_class  \\\n",
       "0            NaN                            NaN                    NaN   \n",
       "1            NaN                            NaN                    NaN   \n",
       "2            NaN                            NaN                  black   \n",
       "3            NaN                            NaN                    NaN   \n",
       "4            NaN                            NaN                    NaN   \n",
       "\n",
       "  author_flair_richtext              author_flair_template_id ...   \\\n",
       "0                    []                                   NaN ...    \n",
       "1                    []                                   NaN ...    \n",
       "2                    []  b2acfc2e-6a1a-11e5-8246-0e49db09c135 ...    \n",
       "3                    []                                   NaN ...    \n",
       "4                    []                                   NaN ...    \n",
       "\n",
       "  thumbnail_height thumbnail_width  \\\n",
       "0              NaN             NaN   \n",
       "1              NaN             NaN   \n",
       "2            140.0           140.0   \n",
       "3            140.0           140.0   \n",
       "4            140.0           140.0   \n",
       "\n",
       "                                               title  ups  \\\n",
       "0  Weekly Lakers Ticket Sales (September 01 - Sep...   16   \n",
       "1  Daily Off Season Lakers Discussion Thread - Se...    5   \n",
       "2                               Playing 2k19 when...  116   \n",
       "3  The King loves staring at his enemies. Even in...  332   \n",
       "4              LeBron out there being the King of NY  138   \n",
       "\n",
       "                                                 url  user_reports  \\\n",
       "0  https://www.reddit.com/r/lakers/comments/9c485...            []   \n",
       "1  https://www.reddit.com/r/lakers/comments/9dupc...            []   \n",
       "2                    https://i.imgur.com/VCe3veY.jpg            []   \n",
       "3                https://i.redd.it/s0z8yp6k2sk11.jpg            []   \n",
       "4                https://i.redd.it/llb3v0512sk11.jpg            []   \n",
       "\n",
       "   view_count  visited  whitelist_status  wls  \n",
       "0         NaN    False           all_ads    6  \n",
       "1         NaN    False           all_ads    6  \n",
       "2         NaN    False           all_ads    6  \n",
       "3         NaN    False           all_ads    6  \n",
       "4         NaN    False           all_ads    6  \n",
       "\n",
       "[5 rows x 98 columns]"
      ]
     },
     "execution_count": 3,
     "metadata": {},
     "output_type": "execute_result"
    }
   ],
   "source": [
    "lakers.head()"
   ]
  },
  {
   "cell_type": "code",
   "execution_count": 4,
   "metadata": {},
   "outputs": [
    {
     "data": {
      "text/html": [
       "<div>\n",
       "<style scoped>\n",
       "    .dataframe tbody tr th:only-of-type {\n",
       "        vertical-align: middle;\n",
       "    }\n",
       "\n",
       "    .dataframe tbody tr th {\n",
       "        vertical-align: top;\n",
       "    }\n",
       "\n",
       "    .dataframe thead th {\n",
       "        text-align: right;\n",
       "    }\n",
       "</style>\n",
       "<table border=\"1\" class=\"dataframe\">\n",
       "  <thead>\n",
       "    <tr style=\"text-align: right;\">\n",
       "      <th></th>\n",
       "      <th>index</th>\n",
       "      <th>approved_at_utc</th>\n",
       "      <th>approved_by</th>\n",
       "      <th>archived</th>\n",
       "      <th>author</th>\n",
       "      <th>author_cakeday</th>\n",
       "      <th>author_flair_background_color</th>\n",
       "      <th>author_flair_css_class</th>\n",
       "      <th>author_flair_richtext</th>\n",
       "      <th>author_flair_template_id</th>\n",
       "      <th>...</th>\n",
       "      <th>thumbnail_height</th>\n",
       "      <th>thumbnail_width</th>\n",
       "      <th>title</th>\n",
       "      <th>ups</th>\n",
       "      <th>url</th>\n",
       "      <th>user_reports</th>\n",
       "      <th>view_count</th>\n",
       "      <th>visited</th>\n",
       "      <th>whitelist_status</th>\n",
       "      <th>wls</th>\n",
       "    </tr>\n",
       "  </thead>\n",
       "  <tbody>\n",
       "    <tr>\n",
       "      <th>0</th>\n",
       "      <td>0</td>\n",
       "      <td>NaN</td>\n",
       "      <td>NaN</td>\n",
       "      <td>False</td>\n",
       "      <td>AutoModerator</td>\n",
       "      <td>NaN</td>\n",
       "      <td>NaN</td>\n",
       "      <td>NaN</td>\n",
       "      <td>[]</td>\n",
       "      <td>NaN</td>\n",
       "      <td>...</td>\n",
       "      <td>NaN</td>\n",
       "      <td>NaN</td>\n",
       "      <td>Weekly General Discussion Thread -- September ...</td>\n",
       "      <td>8</td>\n",
       "      <td>https://www.reddit.com/r/clevelandcavs/comment...</td>\n",
       "      <td>[]</td>\n",
       "      <td>NaN</td>\n",
       "      <td>False</td>\n",
       "      <td>all_ads</td>\n",
       "      <td>6</td>\n",
       "    </tr>\n",
       "    <tr>\n",
       "      <th>1</th>\n",
       "      <td>1</td>\n",
       "      <td>NaN</td>\n",
       "      <td>NaN</td>\n",
       "      <td>False</td>\n",
       "      <td>AutoModerator</td>\n",
       "      <td>NaN</td>\n",
       "      <td>NaN</td>\n",
       "      <td>NaN</td>\n",
       "      <td>[]</td>\n",
       "      <td>NaN</td>\n",
       "      <td>...</td>\n",
       "      <td>NaN</td>\n",
       "      <td>NaN</td>\n",
       "      <td>Free Talk Friday -- September 07, 2018</td>\n",
       "      <td>5</td>\n",
       "      <td>https://www.reddit.com/r/clevelandcavs/comment...</td>\n",
       "      <td>[]</td>\n",
       "      <td>NaN</td>\n",
       "      <td>False</td>\n",
       "      <td>all_ads</td>\n",
       "      <td>6</td>\n",
       "    </tr>\n",
       "    <tr>\n",
       "      <th>2</th>\n",
       "      <td>2</td>\n",
       "      <td>NaN</td>\n",
       "      <td>NaN</td>\n",
       "      <td>False</td>\n",
       "      <td>Parabolaz</td>\n",
       "      <td>NaN</td>\n",
       "      <td>NaN</td>\n",
       "      <td>NaN</td>\n",
       "      <td>[]</td>\n",
       "      <td>NaN</td>\n",
       "      <td>...</td>\n",
       "      <td>140.0</td>\n",
       "      <td>140.0</td>\n",
       "      <td>Just the goat, and some laker.</td>\n",
       "      <td>363</td>\n",
       "      <td>https://i.redd.it/ixkn9v1f1rk11.jpg</td>\n",
       "      <td>[]</td>\n",
       "      <td>NaN</td>\n",
       "      <td>False</td>\n",
       "      <td>all_ads</td>\n",
       "      <td>6</td>\n",
       "    </tr>\n",
       "    <tr>\n",
       "      <th>3</th>\n",
       "      <td>3</td>\n",
       "      <td>NaN</td>\n",
       "      <td>NaN</td>\n",
       "      <td>False</td>\n",
       "      <td>dreamteamreddit</td>\n",
       "      <td>NaN</td>\n",
       "      <td>NaN</td>\n",
       "      <td>NaN</td>\n",
       "      <td>[]</td>\n",
       "      <td>NaN</td>\n",
       "      <td>...</td>\n",
       "      <td>140.0</td>\n",
       "      <td>140.0</td>\n",
       "      <td>Kyrie Irving surprises a Cavaliers fan</td>\n",
       "      <td>33</td>\n",
       "      <td>https://i.imgur.com/WhiBySr.gifv</td>\n",
       "      <td>[]</td>\n",
       "      <td>NaN</td>\n",
       "      <td>False</td>\n",
       "      <td>all_ads</td>\n",
       "      <td>6</td>\n",
       "    </tr>\n",
       "    <tr>\n",
       "      <th>4</th>\n",
       "      <td>4</td>\n",
       "      <td>NaN</td>\n",
       "      <td>NaN</td>\n",
       "      <td>False</td>\n",
       "      <td>Alex_Swervitz</td>\n",
       "      <td>NaN</td>\n",
       "      <td>NaN</td>\n",
       "      <td>CHAMPS</td>\n",
       "      <td>[]</td>\n",
       "      <td>NaN</td>\n",
       "      <td>...</td>\n",
       "      <td>140.0</td>\n",
       "      <td>140.0</td>\n",
       "      <td>New banner downtown.</td>\n",
       "      <td>13</td>\n",
       "      <td>https://i.redd.it/fnd9tj5wjtk11.jpg</td>\n",
       "      <td>[]</td>\n",
       "      <td>NaN</td>\n",
       "      <td>False</td>\n",
       "      <td>all_ads</td>\n",
       "      <td>6</td>\n",
       "    </tr>\n",
       "  </tbody>\n",
       "</table>\n",
       "<p>5 rows × 98 columns</p>\n",
       "</div>"
      ],
      "text/plain": [
       "   index  approved_at_utc  approved_by  archived           author  \\\n",
       "0      0              NaN          NaN     False    AutoModerator   \n",
       "1      1              NaN          NaN     False    AutoModerator   \n",
       "2      2              NaN          NaN     False        Parabolaz   \n",
       "3      3              NaN          NaN     False  dreamteamreddit   \n",
       "4      4              NaN          NaN     False    Alex_Swervitz   \n",
       "\n",
       "  author_cakeday  author_flair_background_color author_flair_css_class  \\\n",
       "0            NaN                            NaN                    NaN   \n",
       "1            NaN                            NaN                    NaN   \n",
       "2            NaN                            NaN                    NaN   \n",
       "3            NaN                            NaN                    NaN   \n",
       "4            NaN                            NaN                 CHAMPS   \n",
       "\n",
       "  author_flair_richtext author_flair_template_id ...   thumbnail_height  \\\n",
       "0                    []                      NaN ...                NaN   \n",
       "1                    []                      NaN ...                NaN   \n",
       "2                    []                      NaN ...              140.0   \n",
       "3                    []                      NaN ...              140.0   \n",
       "4                    []                      NaN ...              140.0   \n",
       "\n",
       "  thumbnail_width                                              title  ups  \\\n",
       "0             NaN  Weekly General Discussion Thread -- September ...    8   \n",
       "1             NaN             Free Talk Friday -- September 07, 2018    5   \n",
       "2           140.0                     Just the goat, and some laker.  363   \n",
       "3           140.0             Kyrie Irving surprises a Cavaliers fan   33   \n",
       "4           140.0                               New banner downtown.   13   \n",
       "\n",
       "                                                 url  user_reports  \\\n",
       "0  https://www.reddit.com/r/clevelandcavs/comment...            []   \n",
       "1  https://www.reddit.com/r/clevelandcavs/comment...            []   \n",
       "2                https://i.redd.it/ixkn9v1f1rk11.jpg            []   \n",
       "3                   https://i.imgur.com/WhiBySr.gifv            []   \n",
       "4                https://i.redd.it/fnd9tj5wjtk11.jpg            []   \n",
       "\n",
       "   view_count  visited  whitelist_status  wls  \n",
       "0         NaN    False           all_ads    6  \n",
       "1         NaN    False           all_ads    6  \n",
       "2         NaN    False           all_ads    6  \n",
       "3         NaN    False           all_ads    6  \n",
       "4         NaN    False           all_ads    6  \n",
       "\n",
       "[5 rows x 98 columns]"
      ]
     },
     "execution_count": 4,
     "metadata": {},
     "output_type": "execute_result"
    }
   ],
   "source": [
    "cavs.head()"
   ]
  },
  {
   "cell_type": "code",
   "execution_count": 5,
   "metadata": {},
   "outputs": [
    {
     "data": {
      "text/html": [
       "<div>\n",
       "<style scoped>\n",
       "    .dataframe tbody tr th:only-of-type {\n",
       "        vertical-align: middle;\n",
       "    }\n",
       "\n",
       "    .dataframe tbody tr th {\n",
       "        vertical-align: top;\n",
       "    }\n",
       "\n",
       "    .dataframe thead th {\n",
       "        text-align: right;\n",
       "    }\n",
       "</style>\n",
       "<table border=\"1\" class=\"dataframe\">\n",
       "  <thead>\n",
       "    <tr style=\"text-align: right;\">\n",
       "      <th></th>\n",
       "      <th>index</th>\n",
       "      <th>approved_at_utc</th>\n",
       "      <th>approved_by</th>\n",
       "      <th>archived</th>\n",
       "      <th>author</th>\n",
       "      <th>author_cakeday</th>\n",
       "      <th>author_flair_background_color</th>\n",
       "      <th>author_flair_css_class</th>\n",
       "      <th>author_flair_richtext</th>\n",
       "      <th>author_flair_template_id</th>\n",
       "      <th>...</th>\n",
       "      <th>suggested_sort</th>\n",
       "      <th>thumbnail</th>\n",
       "      <th>title</th>\n",
       "      <th>ups</th>\n",
       "      <th>url</th>\n",
       "      <th>user_reports</th>\n",
       "      <th>view_count</th>\n",
       "      <th>visited</th>\n",
       "      <th>whitelist_status</th>\n",
       "      <th>wls</th>\n",
       "    </tr>\n",
       "  </thead>\n",
       "  <tbody>\n",
       "    <tr>\n",
       "      <th>0</th>\n",
       "      <td>0</td>\n",
       "      <td>NaN</td>\n",
       "      <td>NaN</td>\n",
       "      <td>False</td>\n",
       "      <td>AutoModerator</td>\n",
       "      <td>NaN</td>\n",
       "      <td>NaN</td>\n",
       "      <td>NaN</td>\n",
       "      <td>[]</td>\n",
       "      <td>NaN</td>\n",
       "      <td>...</td>\n",
       "      <td>new</td>\n",
       "      <td>NaN</td>\n",
       "      <td>Daily Locker Room and Free Talk + Game Threads...</td>\n",
       "      <td>11</td>\n",
       "      <td>https://www.reddit.com/r/nba/comments/9du8wv/d...</td>\n",
       "      <td>[]</td>\n",
       "      <td>NaN</td>\n",
       "      <td>False</td>\n",
       "      <td>all_ads</td>\n",
       "      <td>6</td>\n",
       "    </tr>\n",
       "    <tr>\n",
       "      <th>1</th>\n",
       "      <td>1</td>\n",
       "      <td>NaN</td>\n",
       "      <td>NaN</td>\n",
       "      <td>False</td>\n",
       "      <td>nick168</td>\n",
       "      <td>NaN</td>\n",
       "      <td>NaN</td>\n",
       "      <td>Bulls2</td>\n",
       "      <td>[]</td>\n",
       "      <td>bf195fe4-3feb-11e8-8ef1-0e63bfcf8986</td>\n",
       "      <td>...</td>\n",
       "      <td>NaN</td>\n",
       "      <td>NaN</td>\n",
       "      <td>r/nba Best of August</td>\n",
       "      <td>1119</td>\n",
       "      <td>https://imgur.com/a/f6VeCtm</td>\n",
       "      <td>[]</td>\n",
       "      <td>NaN</td>\n",
       "      <td>False</td>\n",
       "      <td>all_ads</td>\n",
       "      <td>6</td>\n",
       "    </tr>\n",
       "    <tr>\n",
       "      <th>2</th>\n",
       "      <td>2</td>\n",
       "      <td>NaN</td>\n",
       "      <td>NaN</td>\n",
       "      <td>False</td>\n",
       "      <td>dreamteamreddit</td>\n",
       "      <td>NaN</td>\n",
       "      <td>NaN</td>\n",
       "      <td>NaN</td>\n",
       "      <td>[]</td>\n",
       "      <td>NaN</td>\n",
       "      <td>...</td>\n",
       "      <td>NaN</td>\n",
       "      <td>NaN</td>\n",
       "      <td>Celtics' Kyrie Irving surprises a Cavaliers fan</td>\n",
       "      <td>2712</td>\n",
       "      <td>https://i.imgur.com/WhiBySr.gifv</td>\n",
       "      <td>[]</td>\n",
       "      <td>NaN</td>\n",
       "      <td>False</td>\n",
       "      <td>all_ads</td>\n",
       "      <td>6</td>\n",
       "    </tr>\n",
       "    <tr>\n",
       "      <th>3</th>\n",
       "      <td>3</td>\n",
       "      <td>NaN</td>\n",
       "      <td>NaN</td>\n",
       "      <td>False</td>\n",
       "      <td>deepwebteddy</td>\n",
       "      <td>NaN</td>\n",
       "      <td>NaN</td>\n",
       "      <td>Clippers4</td>\n",
       "      <td>[]</td>\n",
       "      <td>NaN</td>\n",
       "      <td>...</td>\n",
       "      <td>NaN</td>\n",
       "      <td>NaN</td>\n",
       "      <td>A photo album of drunk NBA players</td>\n",
       "      <td>4300</td>\n",
       "      <td>https://imgur.com/gallery/au02EYC</td>\n",
       "      <td>[]</td>\n",
       "      <td>NaN</td>\n",
       "      <td>False</td>\n",
       "      <td>all_ads</td>\n",
       "      <td>6</td>\n",
       "    </tr>\n",
       "    <tr>\n",
       "      <th>4</th>\n",
       "      <td>4</td>\n",
       "      <td>NaN</td>\n",
       "      <td>NaN</td>\n",
       "      <td>False</td>\n",
       "      <td>xashburner24</td>\n",
       "      <td>NaN</td>\n",
       "      <td>NaN</td>\n",
       "      <td>NaN</td>\n",
       "      <td>[]</td>\n",
       "      <td>NaN</td>\n",
       "      <td>...</td>\n",
       "      <td>NaN</td>\n",
       "      <td>NaN</td>\n",
       "      <td>[Trae Young] I donated $13 to the @stevenashfd...</td>\n",
       "      <td>357</td>\n",
       "      <td>https://mobile.twitter.com/TheTraeYoung/status...</td>\n",
       "      <td>[]</td>\n",
       "      <td>NaN</td>\n",
       "      <td>False</td>\n",
       "      <td>all_ads</td>\n",
       "      <td>6</td>\n",
       "    </tr>\n",
       "  </tbody>\n",
       "</table>\n",
       "<p>5 rows × 94 columns</p>\n",
       "</div>"
      ],
      "text/plain": [
       "   index  approved_at_utc  approved_by  archived           author  \\\n",
       "0      0              NaN          NaN     False    AutoModerator   \n",
       "1      1              NaN          NaN     False          nick168   \n",
       "2      2              NaN          NaN     False  dreamteamreddit   \n",
       "3      3              NaN          NaN     False     deepwebteddy   \n",
       "4      4              NaN          NaN     False     xashburner24   \n",
       "\n",
       "  author_cakeday  author_flair_background_color author_flair_css_class  \\\n",
       "0            NaN                            NaN                    NaN   \n",
       "1            NaN                            NaN                 Bulls2   \n",
       "2            NaN                            NaN                    NaN   \n",
       "3            NaN                            NaN              Clippers4   \n",
       "4            NaN                            NaN                    NaN   \n",
       "\n",
       "  author_flair_richtext              author_flair_template_id ...   \\\n",
       "0                    []                                   NaN ...    \n",
       "1                    []  bf195fe4-3feb-11e8-8ef1-0e63bfcf8986 ...    \n",
       "2                    []                                   NaN ...    \n",
       "3                    []                                   NaN ...    \n",
       "4                    []                                   NaN ...    \n",
       "\n",
       "  suggested_sort thumbnail                                              title  \\\n",
       "0            new       NaN  Daily Locker Room and Free Talk + Game Threads...   \n",
       "1            NaN       NaN                               r/nba Best of August   \n",
       "2            NaN       NaN    Celtics' Kyrie Irving surprises a Cavaliers fan   \n",
       "3            NaN       NaN                 A photo album of drunk NBA players   \n",
       "4            NaN       NaN  [Trae Young] I donated $13 to the @stevenashfd...   \n",
       "\n",
       "    ups                                                url  user_reports  \\\n",
       "0    11  https://www.reddit.com/r/nba/comments/9du8wv/d...            []   \n",
       "1  1119                        https://imgur.com/a/f6VeCtm            []   \n",
       "2  2712                   https://i.imgur.com/WhiBySr.gifv            []   \n",
       "3  4300                  https://imgur.com/gallery/au02EYC            []   \n",
       "4   357  https://mobile.twitter.com/TheTraeYoung/status...            []   \n",
       "\n",
       "   view_count  visited  whitelist_status  wls  \n",
       "0         NaN    False           all_ads    6  \n",
       "1         NaN    False           all_ads    6  \n",
       "2         NaN    False           all_ads    6  \n",
       "3         NaN    False           all_ads    6  \n",
       "4         NaN    False           all_ads    6  \n",
       "\n",
       "[5 rows x 94 columns]"
      ]
     },
     "execution_count": 5,
     "metadata": {},
     "output_type": "execute_result"
    }
   ],
   "source": [
    "nba.head()"
   ]
  },
  {
   "cell_type": "code",
   "execution_count": 6,
   "metadata": {},
   "outputs": [],
   "source": [
    "features = ['author', 'num_comments', 'score', 'title']\n",
    "\n",
    "lakers = lakers[features]\n",
    "lakers['subreddit'] = 1\n",
    "\n",
    "cavs = cavs[features]\n",
    "cavs['subreddit'] = 2\n",
    "\n",
    "nba = nba[features]\n",
    "nba['subreddit'] = 0"
   ]
  },
  {
   "cell_type": "code",
   "execution_count": 7,
   "metadata": {},
   "outputs": [
    {
     "data": {
      "text/html": [
       "<div>\n",
       "<style scoped>\n",
       "    .dataframe tbody tr th:only-of-type {\n",
       "        vertical-align: middle;\n",
       "    }\n",
       "\n",
       "    .dataframe tbody tr th {\n",
       "        vertical-align: top;\n",
       "    }\n",
       "\n",
       "    .dataframe thead th {\n",
       "        text-align: right;\n",
       "    }\n",
       "</style>\n",
       "<table border=\"1\" class=\"dataframe\">\n",
       "  <thead>\n",
       "    <tr style=\"text-align: right;\">\n",
       "      <th></th>\n",
       "      <th>author</th>\n",
       "      <th>num_comments</th>\n",
       "      <th>score</th>\n",
       "      <th>title</th>\n",
       "      <th>subreddit</th>\n",
       "    </tr>\n",
       "  </thead>\n",
       "  <tbody>\n",
       "    <tr>\n",
       "      <th>0</th>\n",
       "      <td>AutoModerator</td>\n",
       "      <td>47</td>\n",
       "      <td>11</td>\n",
       "      <td>Daily Locker Room and Free Talk + Game Threads...</td>\n",
       "      <td>0</td>\n",
       "    </tr>\n",
       "    <tr>\n",
       "      <th>1</th>\n",
       "      <td>nick168</td>\n",
       "      <td>123</td>\n",
       "      <td>1119</td>\n",
       "      <td>r/nba Best of August</td>\n",
       "      <td>0</td>\n",
       "    </tr>\n",
       "    <tr>\n",
       "      <th>2</th>\n",
       "      <td>dreamteamreddit</td>\n",
       "      <td>192</td>\n",
       "      <td>2712</td>\n",
       "      <td>Celtics' Kyrie Irving surprises a Cavaliers fan</td>\n",
       "      <td>0</td>\n",
       "    </tr>\n",
       "  </tbody>\n",
       "</table>\n",
       "</div>"
      ],
      "text/plain": [
       "            author  num_comments  score  \\\n",
       "0    AutoModerator            47     11   \n",
       "1          nick168           123   1119   \n",
       "2  dreamteamreddit           192   2712   \n",
       "\n",
       "                                               title  subreddit  \n",
       "0  Daily Locker Room and Free Talk + Game Threads...          0  \n",
       "1                               r/nba Best of August          0  \n",
       "2    Celtics' Kyrie Irving surprises a Cavaliers fan          0  "
      ]
     },
     "execution_count": 7,
     "metadata": {},
     "output_type": "execute_result"
    }
   ],
   "source": [
    "frames = [nba, lakers, cavs]\n",
    "\n",
    "posts = pd.concat(frames)\n",
    "\n",
    "posts.head(3)"
   ]
  },
  {
   "cell_type": "code",
   "execution_count": 8,
   "metadata": {},
   "outputs": [],
   "source": [
    "X = posts['title']\n",
    "y = posts['subreddit']"
   ]
  },
  {
   "cell_type": "code",
   "execution_count": 9,
   "metadata": {},
   "outputs": [],
   "source": [
    "X_train, X_test, y_train, y_test = train_test_split(X, y, random_state=42, stratify=y)"
   ]
  },
  {
   "cell_type": "code",
   "execution_count": 10,
   "metadata": {},
   "outputs": [
    {
     "data": {
      "text/plain": [
       "1    0.349542\n",
       "0    0.326659\n",
       "2    0.323799\n",
       "Name: subreddit, dtype: float64"
      ]
     },
     "execution_count": 10,
     "metadata": {},
     "output_type": "execute_result"
    }
   ],
   "source": [
    "y_train.value_counts(normalize=True)"
   ]
  },
  {
   "cell_type": "code",
   "execution_count": 11,
   "metadata": {},
   "outputs": [
    {
     "data": {
      "text/plain": [
       "(0.9416475972540046, 0.8044596912521441)"
      ]
     },
     "execution_count": 11,
     "metadata": {},
     "output_type": "execute_result"
    }
   ],
   "source": [
    "pipe = Pipeline([\n",
    "    ('cv', CountVectorizer()), #stop_words=None\n",
    "    ('mnb', MultinomialNB())\n",
    "])\n",
    "\n",
    "pipe.fit(X_train, y_train)\n",
    "pipe.score(X_train, y_train), pipe.score(X_test, y_test)"
   ]
  },
  {
   "cell_type": "markdown",
   "metadata": {},
   "source": [
    "## Are You The Same Animal, But A Different Beast"
   ]
  },
  {
   "cell_type": "code",
   "execution_count": 12,
   "metadata": {},
   "outputs": [
    {
     "data": {
      "text/plain": [
       "CountVectorizer(analyzer='word', binary=False, decode_error='strict',\n",
       "        dtype=<class 'numpy.int64'>, encoding='utf-8', input='content',\n",
       "        lowercase=True, max_df=1.0, max_features=None, min_df=1,\n",
       "        ngram_range=(1, 1), preprocessor=None, stop_words='english',\n",
       "        strip_accents=None, token_pattern='(?u)\\\\b\\\\w\\\\w+\\\\b',\n",
       "        tokenizer=None, vocabulary=None)"
      ]
     },
     "execution_count": 12,
     "metadata": {},
     "output_type": "execute_result"
    }
   ],
   "source": [
    "cv = CountVectorizer(stop_words='english')\n",
    "\n",
    "cv.fit(X_train)"
   ]
  },
  {
   "cell_type": "code",
   "execution_count": 13,
   "metadata": {},
   "outputs": [],
   "source": [
    "X_train_cv = cv.transform(X_train)"
   ]
  },
  {
   "cell_type": "code",
   "execution_count": 14,
   "metadata": {},
   "outputs": [],
   "source": [
    "X_test_cv = cv.transform(X_test)"
   ]
  },
  {
   "cell_type": "code",
   "execution_count": 15,
   "metadata": {},
   "outputs": [],
   "source": [
    "eda = pd.DataFrame(X_train_cv.todense(), columns=cv.get_feature_names())"
   ]
  },
  {
   "cell_type": "code",
   "execution_count": 16,
   "metadata": {},
   "outputs": [],
   "source": [
    "eda['subreddit'] = y_train.values"
   ]
  },
  {
   "cell_type": "code",
   "execution_count": 17,
   "metadata": {},
   "outputs": [
    {
     "data": {
      "text/html": [
       "<div>\n",
       "<style scoped>\n",
       "    .dataframe tbody tr th:only-of-type {\n",
       "        vertical-align: middle;\n",
       "    }\n",
       "\n",
       "    .dataframe tbody tr th {\n",
       "        vertical-align: top;\n",
       "    }\n",
       "\n",
       "    .dataframe thead th {\n",
       "        text-align: right;\n",
       "    }\n",
       "</style>\n",
       "<table border=\"1\" class=\"dataframe\">\n",
       "  <thead>\n",
       "    <tr style=\"text-align: right;\">\n",
       "      <th></th>\n",
       "      <th>000</th>\n",
       "      <th>01</th>\n",
       "      <th>02</th>\n",
       "      <th>03</th>\n",
       "      <th>04</th>\n",
       "      <th>05</th>\n",
       "      <th>06</th>\n",
       "      <th>07</th>\n",
       "      <th>08</th>\n",
       "      <th>09</th>\n",
       "      <th>...</th>\n",
       "      <th>zelman</th>\n",
       "      <th>zero</th>\n",
       "      <th>zgoda</th>\n",
       "      <th>zhuri</th>\n",
       "      <th>zizic</th>\n",
       "      <th>zu</th>\n",
       "      <th>zubac</th>\n",
       "      <th>zydrunas</th>\n",
       "      <th>šarić</th>\n",
       "      <th>ᴴᴰ</th>\n",
       "    </tr>\n",
       "  </thead>\n",
       "  <tbody>\n",
       "    <tr>\n",
       "      <th>0</th>\n",
       "      <td>0</td>\n",
       "      <td>0</td>\n",
       "      <td>0</td>\n",
       "      <td>0</td>\n",
       "      <td>0</td>\n",
       "      <td>0</td>\n",
       "      <td>0</td>\n",
       "      <td>0</td>\n",
       "      <td>0</td>\n",
       "      <td>0</td>\n",
       "      <td>...</td>\n",
       "      <td>0</td>\n",
       "      <td>0</td>\n",
       "      <td>0</td>\n",
       "      <td>0</td>\n",
       "      <td>0</td>\n",
       "      <td>0</td>\n",
       "      <td>0</td>\n",
       "      <td>0</td>\n",
       "      <td>0</td>\n",
       "      <td>0</td>\n",
       "    </tr>\n",
       "    <tr>\n",
       "      <th>1</th>\n",
       "      <td>0</td>\n",
       "      <td>0</td>\n",
       "      <td>0</td>\n",
       "      <td>0</td>\n",
       "      <td>0</td>\n",
       "      <td>0</td>\n",
       "      <td>0</td>\n",
       "      <td>0</td>\n",
       "      <td>0</td>\n",
       "      <td>0</td>\n",
       "      <td>...</td>\n",
       "      <td>0</td>\n",
       "      <td>0</td>\n",
       "      <td>0</td>\n",
       "      <td>0</td>\n",
       "      <td>0</td>\n",
       "      <td>0</td>\n",
       "      <td>0</td>\n",
       "      <td>0</td>\n",
       "      <td>0</td>\n",
       "      <td>0</td>\n",
       "    </tr>\n",
       "    <tr>\n",
       "      <th>2</th>\n",
       "      <td>0</td>\n",
       "      <td>0</td>\n",
       "      <td>0</td>\n",
       "      <td>0</td>\n",
       "      <td>0</td>\n",
       "      <td>0</td>\n",
       "      <td>0</td>\n",
       "      <td>0</td>\n",
       "      <td>0</td>\n",
       "      <td>0</td>\n",
       "      <td>...</td>\n",
       "      <td>0</td>\n",
       "      <td>0</td>\n",
       "      <td>0</td>\n",
       "      <td>0</td>\n",
       "      <td>0</td>\n",
       "      <td>0</td>\n",
       "      <td>0</td>\n",
       "      <td>0</td>\n",
       "      <td>0</td>\n",
       "      <td>0</td>\n",
       "    </tr>\n",
       "    <tr>\n",
       "      <th>3</th>\n",
       "      <td>0</td>\n",
       "      <td>0</td>\n",
       "      <td>0</td>\n",
       "      <td>0</td>\n",
       "      <td>0</td>\n",
       "      <td>0</td>\n",
       "      <td>0</td>\n",
       "      <td>0</td>\n",
       "      <td>0</td>\n",
       "      <td>0</td>\n",
       "      <td>...</td>\n",
       "      <td>0</td>\n",
       "      <td>0</td>\n",
       "      <td>0</td>\n",
       "      <td>0</td>\n",
       "      <td>0</td>\n",
       "      <td>0</td>\n",
       "      <td>0</td>\n",
       "      <td>0</td>\n",
       "      <td>0</td>\n",
       "      <td>0</td>\n",
       "    </tr>\n",
       "    <tr>\n",
       "      <th>4</th>\n",
       "      <td>0</td>\n",
       "      <td>0</td>\n",
       "      <td>0</td>\n",
       "      <td>0</td>\n",
       "      <td>0</td>\n",
       "      <td>0</td>\n",
       "      <td>0</td>\n",
       "      <td>0</td>\n",
       "      <td>0</td>\n",
       "      <td>0</td>\n",
       "      <td>...</td>\n",
       "      <td>0</td>\n",
       "      <td>0</td>\n",
       "      <td>0</td>\n",
       "      <td>0</td>\n",
       "      <td>0</td>\n",
       "      <td>0</td>\n",
       "      <td>0</td>\n",
       "      <td>0</td>\n",
       "      <td>0</td>\n",
       "      <td>0</td>\n",
       "    </tr>\n",
       "  </tbody>\n",
       "</table>\n",
       "<p>5 rows × 3819 columns</p>\n",
       "</div>"
      ],
      "text/plain": [
       "   000  01  02  03  04  05  06  07  08  09 ...  zelman  zero  zgoda  zhuri  \\\n",
       "0    0   0   0   0   0   0   0   0   0   0 ...       0     0      0      0   \n",
       "1    0   0   0   0   0   0   0   0   0   0 ...       0     0      0      0   \n",
       "2    0   0   0   0   0   0   0   0   0   0 ...       0     0      0      0   \n",
       "3    0   0   0   0   0   0   0   0   0   0 ...       0     0      0      0   \n",
       "4    0   0   0   0   0   0   0   0   0   0 ...       0     0      0      0   \n",
       "\n",
       "   zizic  zu  zubac  zydrunas  šarić  ᴴᴰ  \n",
       "0      0   0      0         0      0   0  \n",
       "1      0   0      0         0      0   0  \n",
       "2      0   0      0         0      0   0  \n",
       "3      0   0      0         0      0   0  \n",
       "4      0   0      0         0      0   0  \n",
       "\n",
       "[5 rows x 3819 columns]"
      ]
     },
     "execution_count": 17,
     "metadata": {},
     "output_type": "execute_result"
    }
   ],
   "source": [
    "eda.head()"
   ]
  },
  {
   "cell_type": "code",
   "execution_count": 18,
   "metadata": {
    "scrolled": true
   },
   "outputs": [
    {
     "data": {
      "text/plain": [
       "subreddit    1743\n",
       "lebron        237\n",
       "lakers        184\n",
       "nba           183\n",
       "game          114\n",
       "season        110\n",
       "2018           97\n",
       "kobe           96\n",
       "cavs           93\n",
       "team           85\n",
       "james          76\n",
       "cavaliers      72\n",
       "league         69\n",
       "cleveland      66\n",
       "time           64\n",
       "dtype: int64"
      ]
     },
     "execution_count": 18,
     "metadata": {},
     "output_type": "execute_result"
    }
   ],
   "source": [
    "eda.sum().sort_values(ascending=False)[:15]"
   ]
  },
  {
   "cell_type": "code",
   "execution_count": 19,
   "metadata": {},
   "outputs": [
    {
     "data": {
      "image/png": "[encoded data removed]",
      "text/plain": [
       "<Figure size 432x288 with 1 Axes>"
      ]
     },
     "metadata": {},
     "output_type": "display_data"
    }
   ],
   "source": [
    "eda.groupby('subreddit').sum()['lebron'].plot(kind='barh');"
   ]
  },
  {
   "cell_type": "code",
   "execution_count": 20,
   "metadata": {},
   "outputs": [
    {
     "data": {
      "text/plain": [
       "subreddit\n",
       "0     45\n",
       "1     80\n",
       "2    112\n",
       "Name: lebron, dtype: int64"
      ]
     },
     "execution_count": 20,
     "metadata": {},
     "output_type": "execute_result"
    }
   ],
   "source": [
    "eda.groupby('subreddit').sum()['lebron']"
   ]
  },
  {
   "cell_type": "code",
   "execution_count": 21,
   "metadata": {},
   "outputs": [
    {
     "data": {
      "image/png": "[encoded data removed]",
      "text/plain": [
       "<Figure size 432x288 with 1 Axes>"
      ]
     },
     "metadata": {},
     "output_type": "display_data"
    }
   ],
   "source": [
    "eda.groupby('subreddit').sum()['lakers'].plot(kind='barh');"
   ]
  },
  {
   "cell_type": "code",
   "execution_count": 22,
   "metadata": {},
   "outputs": [
    {
     "data": {
      "text/plain": [
       "<matplotlib.axes._subplots.AxesSubplot at 0x1a3301c898>"
      ]
     },
     "execution_count": 22,
     "metadata": {},
     "output_type": "execute_result"
    },
    {
     "data": {
      "image/png": "[encoded data removed]",
      "text/plain": [
       "<Figure size 432x288 with 1 Axes>"
      ]
     },
     "metadata": {},
     "output_type": "display_data"
    }
   ],
   "source": [
    "eda.groupby('subreddit').sum()['nba'].plot(kind='barh')"
   ]
  },
  {
   "cell_type": "code",
   "execution_count": 23,
   "metadata": {},
   "outputs": [
    {
     "data": {
      "text/plain": [
       "<matplotlib.axes._subplots.AxesSubplot at 0x1a330d6518>"
      ]
     },
     "execution_count": 23,
     "metadata": {},
     "output_type": "execute_result"
    },
    {
     "data": {
      "image/png": "[encoded data removed]",
      "text/plain": [
       "<Figure size 432x288 with 1 Axes>"
      ]
     },
     "metadata": {},
     "output_type": "display_data"
    }
   ],
   "source": [
    "eda.groupby('subreddit').sum()['game'].plot(kind='barh')"
   ]
  },
  {
   "cell_type": "code",
   "execution_count": 24,
   "metadata": {},
   "outputs": [
    {
     "data": {
      "text/plain": [
       "subreddit\n",
       "0    53\n",
       "1    28\n",
       "2    33\n",
       "Name: game, dtype: int64"
      ]
     },
     "execution_count": 24,
     "metadata": {},
     "output_type": "execute_result"
    }
   ],
   "source": [
    "eda.groupby('subreddit').sum()['game']"
   ]
  },
  {
   "cell_type": "code",
   "execution_count": 25,
   "metadata": {},
   "outputs": [
    {
     "data": {
      "text/plain": [
       "<matplotlib.axes._subplots.AxesSubplot at 0x1a331888d0>"
      ]
     },
     "execution_count": 25,
     "metadata": {},
     "output_type": "execute_result"
    },
    {
     "data": {
      "image/png": "[encoded data removed]",
      "text/plain": [
       "<Figure size 432x288 with 1 Axes>"
      ]
     },
     "metadata": {},
     "output_type": "display_data"
    }
   ],
   "source": [
    "eda.groupby('subreddit').sum()['season'].plot(kind='barh')"
   ]
  },
  {
   "cell_type": "code",
   "execution_count": 26,
   "metadata": {},
   "outputs": [
    {
     "data": {
      "text/plain": [
       "subreddit\n",
       "0    35\n",
       "1    51\n",
       "2    24\n",
       "Name: season, dtype: int64"
      ]
     },
     "execution_count": 26,
     "metadata": {},
     "output_type": "execute_result"
    }
   ],
   "source": [
    "eda.groupby('subreddit').sum()['season']"
   ]
  },
  {
   "cell_type": "code",
   "execution_count": 27,
   "metadata": {},
   "outputs": [
    {
     "data": {
      "text/plain": [
       "<matplotlib.axes._subplots.AxesSubplot at 0x1a3323f4e0>"
      ]
     },
     "execution_count": 27,
     "metadata": {},
     "output_type": "execute_result"
    },
    {
     "data": {
      "image/png": "[encoded data removed]",
      "text/plain": [
       "<Figure size 432x288 with 1 Axes>"
      ]
     },
     "metadata": {},
     "output_type": "display_data"
    }
   ],
   "source": [
    "eda.groupby('subreddit').sum()['kobe'].plot(kind='barh')"
   ]
  },
  {
   "cell_type": "code",
   "execution_count": 28,
   "metadata": {},
   "outputs": [
    {
     "data": {
      "text/plain": [
       "<matplotlib.axes._subplots.AxesSubplot at 0x1a332f3390>"
      ]
     },
     "execution_count": 28,
     "metadata": {},
     "output_type": "execute_result"
    },
    {
     "data": {
      "image/png": "[encoded data removed]",
      "text/plain": [
       "<Figure size 432x288 with 1 Axes>"
      ]
     },
     "metadata": {},
     "output_type": "display_data"
    }
   ],
   "source": [
    "eda.groupby('subreddit').sum()['kyrie'].plot(kind='barh')"
   ]
  },
  {
   "cell_type": "code",
   "execution_count": 29,
   "metadata": {},
   "outputs": [
    {
     "data": {
      "text/plain": [
       "<matplotlib.axes._subplots.AxesSubplot at 0x1a333a9ef0>"
      ]
     },
     "execution_count": 29,
     "metadata": {},
     "output_type": "execute_result"
    },
    {
     "data": {
      "image/png": "[encoded data removed]",
      "text/plain": [
       "<Figure size 432x288 with 1 Axes>"
      ]
     },
     "metadata": {},
     "output_type": "display_data"
    }
   ],
   "source": [
    "eda.groupby('subreddit').sum()['magic'].plot(kind='barh')"
   ]
  },
  {
   "cell_type": "code",
   "execution_count": 30,
   "metadata": {},
   "outputs": [
    {
     "data": {
      "text/plain": [
       "subreddit\n",
       "0    10\n",
       "1     8\n",
       "2     3\n",
       "Name: magic, dtype: int64"
      ]
     },
     "execution_count": 30,
     "metadata": {},
     "output_type": "execute_result"
    }
   ],
   "source": [
    "eda.groupby('subreddit').sum()['magic']"
   ]
  },
  {
   "cell_type": "code",
   "execution_count": 31,
   "metadata": {},
   "outputs": [],
   "source": [
    "lcv = LogisticRegressionCV()\n",
    "mnb = MultinomialNB()\n",
    "knc = KNeighborsClassifier()\n",
    "dtc = DecisionTreeClassifier()\n",
    "etc = ExtraTreesClassifier()\n",
    "rfc = RandomForestClassifier()\n",
    "abc = AdaBoostClassifier()\n",
    "gbc = GradientBoostingClassifier()\n",
    "\n",
    "list_of_classifiers = [lcv, mnb, knc, dtc, etc, rfc, abc, gbc]"
   ]
  },
  {
   "cell_type": "code",
   "execution_count": 32,
   "metadata": {
    "scrolled": false
   },
   "outputs": [
    {
     "name": "stdout",
     "output_type": "stream",
     "text": [
      "LogisticRegressionCV\n",
      "Training score:\n",
      "0.9902745995423341\n",
      "Testing score:\n",
      "0.7821612349914236\n",
      "\n",
      "MultinomialNB\n",
      "Training score:\n",
      "0.9382151029748284\n",
      "Testing score:\n",
      "0.8044596912521441\n",
      "\n",
      "KNeighborsClassifier\n",
      "Training score:\n",
      "0.8672768878718535\n",
      "Testing score:\n",
      "0.6174957118353345\n",
      "\n",
      "DecisionTreeClassifier\n",
      "Training score:\n",
      "0.9977116704805492\n",
      "Testing score:\n",
      "0.6689536878216124\n",
      "\n",
      "ExtraTreesClassifier\n",
      "Training score:\n",
      "0.9977116704805492\n",
      "Testing score:\n",
      "0.7409948542024014\n",
      "\n",
      "RandomForestClassifier\n",
      "Training score:\n",
      "0.988558352402746\n",
      "Testing score:\n",
      "0.7049742710120068\n",
      "\n",
      "AdaBoostClassifier\n",
      "Training score:\n",
      "0.7294050343249427\n",
      "Testing score:\n",
      "0.7169811320754716\n",
      "\n",
      "GradientBoostingClassifier\n",
      "Training score:\n",
      "0.8237986270022883\n",
      "Testing score:\n",
      "0.7495711835334476\n",
      "\n"
     ]
    }
   ],
   "source": [
    "for each in list_of_classifiers:\n",
    "    print(str(each).split('(')[0])\n",
    "    each.fit(X_train_cv, y_train)\n",
    "    print('Training score:')\n",
    "    print(each.score(X_train_cv, y_train))\n",
    "    print('Testing score:')\n",
    "    print(each.score(X_test_cv, y_test))\n",
    "    print()"
   ]
  },
  {
   "cell_type": "markdown",
   "metadata": {},
   "source": [
    "## Lord VADER Rules Over ALL!!!!"
   ]
  },
  {
   "cell_type": "code",
   "execution_count": 33,
   "metadata": {},
   "outputs": [
    {
     "data": {
      "text/plain": [
       "'Daily Locker Room and Free Talk + Game Threads Index (2018.09.07)'"
      ]
     },
     "execution_count": 33,
     "metadata": {},
     "output_type": "execute_result"
    }
   ],
   "source": [
    "corpus = list(posts['title'])\n",
    "\n",
    "corpus[0]"
   ]
  },
  {
   "cell_type": "code",
   "execution_count": 34,
   "metadata": {},
   "outputs": [
    {
     "data": {
      "text/plain": [
       "{'neg': 0.0, 'neu': 0.732, 'pos': 0.268, 'compound': 0.5106}"
      ]
     },
     "execution_count": 34,
     "metadata": {},
     "output_type": "execute_result"
    }
   ],
   "source": [
    "sia = SentimentIntensityAnalyzer()\n",
    "\n",
    "sia.polarity_scores(corpus[0])"
   ]
  },
  {
   "cell_type": "code",
   "execution_count": 35,
   "metadata": {},
   "outputs": [
    {
     "data": {
      "text/html": [
       "<div>\n",
       "<style scoped>\n",
       "    .dataframe tbody tr th:only-of-type {\n",
       "        vertical-align: middle;\n",
       "    }\n",
       "\n",
       "    .dataframe tbody tr th {\n",
       "        vertical-align: top;\n",
       "    }\n",
       "\n",
       "    .dataframe thead th {\n",
       "        text-align: right;\n",
       "    }\n",
       "</style>\n",
       "<table border=\"1\" class=\"dataframe\">\n",
       "  <thead>\n",
       "    <tr style=\"text-align: right;\">\n",
       "      <th></th>\n",
       "      <th>compound</th>\n",
       "      <th>neg</th>\n",
       "      <th>neu</th>\n",
       "      <th>pos</th>\n",
       "      <th>title</th>\n",
       "    </tr>\n",
       "  </thead>\n",
       "  <tbody>\n",
       "    <tr>\n",
       "      <th>0</th>\n",
       "      <td>0.5106</td>\n",
       "      <td>0.000</td>\n",
       "      <td>0.732</td>\n",
       "      <td>0.268</td>\n",
       "      <td>Daily Locker Room and Free Talk + Game Threads...</td>\n",
       "    </tr>\n",
       "    <tr>\n",
       "      <th>1</th>\n",
       "      <td>0.6369</td>\n",
       "      <td>0.000</td>\n",
       "      <td>0.417</td>\n",
       "      <td>0.583</td>\n",
       "      <td>r/nba Best of August</td>\n",
       "    </tr>\n",
       "    <tr>\n",
       "      <th>2</th>\n",
       "      <td>0.4939</td>\n",
       "      <td>0.000</td>\n",
       "      <td>0.488</td>\n",
       "      <td>0.512</td>\n",
       "      <td>Celtics' Kyrie Irving surprises a Cavaliers fan</td>\n",
       "    </tr>\n",
       "    <tr>\n",
       "      <th>3</th>\n",
       "      <td>-0.3400</td>\n",
       "      <td>0.324</td>\n",
       "      <td>0.676</td>\n",
       "      <td>0.000</td>\n",
       "      <td>A photo album of drunk NBA players</td>\n",
       "    </tr>\n",
       "    <tr>\n",
       "      <th>4</th>\n",
       "      <td>0.4215</td>\n",
       "      <td>0.000</td>\n",
       "      <td>0.863</td>\n",
       "      <td>0.137</td>\n",
       "      <td>[Trae Young] I donated $13 to the @stevenashfd...</td>\n",
       "    </tr>\n",
       "  </tbody>\n",
       "</table>\n",
       "</div>"
      ],
      "text/plain": [
       "   compound    neg    neu    pos  \\\n",
       "0    0.5106  0.000  0.732  0.268   \n",
       "1    0.6369  0.000  0.417  0.583   \n",
       "2    0.4939  0.000  0.488  0.512   \n",
       "3   -0.3400  0.324  0.676  0.000   \n",
       "4    0.4215  0.000  0.863  0.137   \n",
       "\n",
       "                                               title  \n",
       "0  Daily Locker Room and Free Talk + Game Threads...  \n",
       "1                               r/nba Best of August  \n",
       "2    Celtics' Kyrie Irving surprises a Cavaliers fan  \n",
       "3                 A photo album of drunk NBA players  \n",
       "4  [Trae Young] I donated $13 to the @stevenashfd...  "
      ]
     },
     "execution_count": 35,
     "metadata": {},
     "output_type": "execute_result"
    }
   ],
   "source": [
    "dicts = []\n",
    "\n",
    "for post in corpus:\n",
    "    scores = sia.polarity_scores(post)\n",
    "    scores['title'] = post\n",
    "    dicts.append(scores)\n",
    "    \n",
    "vader = pd.DataFrame(dicts)\n",
    "vader.head()"
   ]
  },
  {
   "cell_type": "code",
   "execution_count": 36,
   "metadata": {},
   "outputs": [],
   "source": [
    "vader['subreddit'] = posts['subreddit'].values"
   ]
  },
  {
   "cell_type": "code",
   "execution_count": 37,
   "metadata": {},
   "outputs": [
    {
     "data": {
      "text/html": [
       "<div>\n",
       "<style scoped>\n",
       "    .dataframe tbody tr th:only-of-type {\n",
       "        vertical-align: middle;\n",
       "    }\n",
       "\n",
       "    .dataframe tbody tr th {\n",
       "        vertical-align: top;\n",
       "    }\n",
       "\n",
       "    .dataframe thead th {\n",
       "        text-align: right;\n",
       "    }\n",
       "</style>\n",
       "<table border=\"1\" class=\"dataframe\">\n",
       "  <thead>\n",
       "    <tr style=\"text-align: right;\">\n",
       "      <th></th>\n",
       "      <th>compound</th>\n",
       "      <th>neg</th>\n",
       "      <th>neu</th>\n",
       "      <th>pos</th>\n",
       "    </tr>\n",
       "    <tr>\n",
       "      <th>subreddit</th>\n",
       "      <th></th>\n",
       "      <th></th>\n",
       "      <th></th>\n",
       "      <th></th>\n",
       "    </tr>\n",
       "  </thead>\n",
       "  <tbody>\n",
       "    <tr>\n",
       "      <th>0</th>\n",
       "      <td>0.125099</td>\n",
       "      <td>0.048098</td>\n",
       "      <td>0.849807</td>\n",
       "      <td>0.102096</td>\n",
       "    </tr>\n",
       "    <tr>\n",
       "      <th>1</th>\n",
       "      <td>0.157276</td>\n",
       "      <td>0.031415</td>\n",
       "      <td>0.851179</td>\n",
       "      <td>0.114958</td>\n",
       "    </tr>\n",
       "    <tr>\n",
       "      <th>2</th>\n",
       "      <td>0.155412</td>\n",
       "      <td>0.032899</td>\n",
       "      <td>0.850472</td>\n",
       "      <td>0.115300</td>\n",
       "    </tr>\n",
       "  </tbody>\n",
       "</table>\n",
       "</div>"
      ],
      "text/plain": [
       "           compound       neg       neu       pos\n",
       "subreddit                                        \n",
       "0          0.125099  0.048098  0.849807  0.102096\n",
       "1          0.157276  0.031415  0.851179  0.114958\n",
       "2          0.155412  0.032899  0.850472  0.115300"
      ]
     },
     "execution_count": 37,
     "metadata": {},
     "output_type": "execute_result"
    }
   ],
   "source": [
    "vader.groupby('subreddit').mean()"
   ]
  },
  {
   "cell_type": "code",
   "execution_count": 38,
   "metadata": {},
   "outputs": [
    {
     "data": {
      "text/html": [
       "<div>\n",
       "<style scoped>\n",
       "    .dataframe tbody tr th:only-of-type {\n",
       "        vertical-align: middle;\n",
       "    }\n",
       "\n",
       "    .dataframe tbody tr th {\n",
       "        vertical-align: top;\n",
       "    }\n",
       "\n",
       "    .dataframe thead th {\n",
       "        text-align: right;\n",
       "    }\n",
       "</style>\n",
       "<table border=\"1\" class=\"dataframe\">\n",
       "  <thead>\n",
       "    <tr style=\"text-align: right;\">\n",
       "      <th></th>\n",
       "      <th>compound</th>\n",
       "      <th>neg</th>\n",
       "      <th>neu</th>\n",
       "      <th>pos</th>\n",
       "      <th>title</th>\n",
       "      <th>subreddit</th>\n",
       "    </tr>\n",
       "  </thead>\n",
       "  <tbody>\n",
       "    <tr>\n",
       "      <th>943</th>\n",
       "      <td>0.6124</td>\n",
       "      <td>0.0</td>\n",
       "      <td>0.167</td>\n",
       "      <td>0.833</td>\n",
       "      <td>Throwbacks? Yes Please</td>\n",
       "      <td>1</td>\n",
       "    </tr>\n",
       "    <tr>\n",
       "      <th>1238</th>\n",
       "      <td>0.6249</td>\n",
       "      <td>0.0</td>\n",
       "      <td>0.196</td>\n",
       "      <td>0.804</td>\n",
       "      <td>Great throwback</td>\n",
       "      <td>1</td>\n",
       "    </tr>\n",
       "    <tr>\n",
       "      <th>1886</th>\n",
       "      <td>0.5080</td>\n",
       "      <td>0.0</td>\n",
       "      <td>0.233</td>\n",
       "      <td>0.767</td>\n",
       "      <td>YES BABY!!</td>\n",
       "      <td>2</td>\n",
       "    </tr>\n",
       "    <tr>\n",
       "      <th>1038</th>\n",
       "      <td>0.7650</td>\n",
       "      <td>0.0</td>\n",
       "      <td>0.233</td>\n",
       "      <td>0.767</td>\n",
       "      <td>Best Value in NBA?</td>\n",
       "      <td>1</td>\n",
       "    </tr>\n",
       "    <tr>\n",
       "      <th>930</th>\n",
       "      <td>0.4404</td>\n",
       "      <td>0.0</td>\n",
       "      <td>0.256</td>\n",
       "      <td>0.744</td>\n",
       "      <td>Championship Contenders?</td>\n",
       "      <td>1</td>\n",
       "    </tr>\n",
       "  </tbody>\n",
       "</table>\n",
       "</div>"
      ],
      "text/plain": [
       "      compound  neg    neu    pos                     title  subreddit\n",
       "943     0.6124  0.0  0.167  0.833    Throwbacks? Yes Please          1\n",
       "1238    0.6249  0.0  0.196  0.804           Great throwback          1\n",
       "1886    0.5080  0.0  0.233  0.767                YES BABY!!          2\n",
       "1038    0.7650  0.0  0.233  0.767        Best Value in NBA?          1\n",
       "930     0.4404  0.0  0.256  0.744  Championship Contenders?          1"
      ]
     },
     "execution_count": 38,
     "metadata": {},
     "output_type": "execute_result"
    }
   ],
   "source": [
    "vader.sort_values(by='pos', ascending=False).head(5)"
   ]
  },
  {
   "cell_type": "code",
   "execution_count": 39,
   "metadata": {},
   "outputs": [
    {
     "data": {
      "text/html": [
       "<div>\n",
       "<style scoped>\n",
       "    .dataframe tbody tr th:only-of-type {\n",
       "        vertical-align: middle;\n",
       "    }\n",
       "\n",
       "    .dataframe tbody tr th {\n",
       "        vertical-align: top;\n",
       "    }\n",
       "\n",
       "    .dataframe thead th {\n",
       "        text-align: right;\n",
       "    }\n",
       "</style>\n",
       "<table border=\"1\" class=\"dataframe\">\n",
       "  <thead>\n",
       "    <tr style=\"text-align: right;\">\n",
       "      <th></th>\n",
       "      <th>compound</th>\n",
       "      <th>neg</th>\n",
       "      <th>neu</th>\n",
       "      <th>pos</th>\n",
       "      <th>title</th>\n",
       "      <th>subreddit</th>\n",
       "    </tr>\n",
       "  </thead>\n",
       "  <tbody>\n",
       "    <tr>\n",
       "      <th>1347</th>\n",
       "      <td>-0.6523</td>\n",
       "      <td>0.684</td>\n",
       "      <td>0.316</td>\n",
       "      <td>0.0</td>\n",
       "      <td>Lance is NASTY</td>\n",
       "      <td>1</td>\n",
       "    </tr>\n",
       "    <tr>\n",
       "      <th>1253</th>\n",
       "      <td>-0.6219</td>\n",
       "      <td>0.671</td>\n",
       "      <td>0.329</td>\n",
       "      <td>0.0</td>\n",
       "      <td>LeBron vs. Haters!!!</td>\n",
       "      <td>1</td>\n",
       "    </tr>\n",
       "    <tr>\n",
       "      <th>256</th>\n",
       "      <td>-0.7096</td>\n",
       "      <td>0.663</td>\n",
       "      <td>0.337</td>\n",
       "      <td>0.0</td>\n",
       "      <td>Is the rings argument stupid ?</td>\n",
       "      <td>0</td>\n",
       "    </tr>\n",
       "    <tr>\n",
       "      <th>1549</th>\n",
       "      <td>-0.2263</td>\n",
       "      <td>0.655</td>\n",
       "      <td>0.345</td>\n",
       "      <td>0.0</td>\n",
       "      <td>Forgotten Laksers</td>\n",
       "      <td>1</td>\n",
       "    </tr>\n",
       "    <tr>\n",
       "      <th>838</th>\n",
       "      <td>-0.4404</td>\n",
       "      <td>0.592</td>\n",
       "      <td>0.408</td>\n",
       "      <td>0.0</td>\n",
       "      <td>Lakers.com frustrates me</td>\n",
       "      <td>1</td>\n",
       "    </tr>\n",
       "  </tbody>\n",
       "</table>\n",
       "</div>"
      ],
      "text/plain": [
       "      compound    neg    neu  pos                           title  subreddit\n",
       "1347   -0.6523  0.684  0.316  0.0                  Lance is NASTY          1\n",
       "1253   -0.6219  0.671  0.329  0.0            LeBron vs. Haters!!!          1\n",
       "256    -0.7096  0.663  0.337  0.0  Is the rings argument stupid ?          0\n",
       "1549   -0.2263  0.655  0.345  0.0               Forgotten Laksers          1\n",
       "838    -0.4404  0.592  0.408  0.0        Lakers.com frustrates me          1"
      ]
     },
     "execution_count": 39,
     "metadata": {},
     "output_type": "execute_result"
    }
   ],
   "source": [
    "vader.sort_values(by='neg', ascending=False).head(5)"
   ]
  },
  {
   "cell_type": "code",
   "execution_count": 40,
   "metadata": {},
   "outputs": [
    {
     "data": {
      "text/html": [
       "<div>\n",
       "<style scoped>\n",
       "    .dataframe tbody tr th:only-of-type {\n",
       "        vertical-align: middle;\n",
       "    }\n",
       "\n",
       "    .dataframe tbody tr th {\n",
       "        vertical-align: top;\n",
       "    }\n",
       "\n",
       "    .dataframe thead th {\n",
       "        text-align: right;\n",
       "    }\n",
       "</style>\n",
       "<table border=\"1\" class=\"dataframe\">\n",
       "  <thead>\n",
       "    <tr style=\"text-align: right;\">\n",
       "      <th></th>\n",
       "      <th>compound</th>\n",
       "      <th>neg</th>\n",
       "      <th>neu</th>\n",
       "      <th>pos</th>\n",
       "      <th>title</th>\n",
       "      <th>subreddit</th>\n",
       "    </tr>\n",
       "  </thead>\n",
       "  <tbody>\n",
       "    <tr>\n",
       "      <th>1685</th>\n",
       "      <td>0.0</td>\n",
       "      <td>0.0</td>\n",
       "      <td>1.0</td>\n",
       "      <td>0.0</td>\n",
       "      <td>Collin Sexton makes incredible shot from building</td>\n",
       "      <td>2</td>\n",
       "    </tr>\n",
       "    <tr>\n",
       "      <th>1044</th>\n",
       "      <td>0.0</td>\n",
       "      <td>0.0</td>\n",
       "      <td>1.0</td>\n",
       "      <td>0.0</td>\n",
       "      <td>Kobe crosses Matt Barnes then hits the jumper,...</td>\n",
       "      <td>1</td>\n",
       "    </tr>\n",
       "    <tr>\n",
       "      <th>2010</th>\n",
       "      <td>0.0</td>\n",
       "      <td>0.0</td>\n",
       "      <td>1.0</td>\n",
       "      <td>0.0</td>\n",
       "      <td>Over or Under 3 National TV games this season?</td>\n",
       "      <td>2</td>\n",
       "    </tr>\n",
       "    <tr>\n",
       "      <th>919</th>\n",
       "      <td>0.0</td>\n",
       "      <td>0.0</td>\n",
       "      <td>1.0</td>\n",
       "      <td>0.0</td>\n",
       "      <td>Daily Off Season Lakers Discussion Thread - Se...</td>\n",
       "      <td>1</td>\n",
       "    </tr>\n",
       "    <tr>\n",
       "      <th>918</th>\n",
       "      <td>0.0</td>\n",
       "      <td>0.0</td>\n",
       "      <td>1.0</td>\n",
       "      <td>0.0</td>\n",
       "      <td>Former Cavs sideline reporter Allie Clifton wi...</td>\n",
       "      <td>1</td>\n",
       "    </tr>\n",
       "  </tbody>\n",
       "</table>\n",
       "</div>"
      ],
      "text/plain": [
       "      compound  neg  neu  pos  \\\n",
       "1685       0.0  0.0  1.0  0.0   \n",
       "1044       0.0  0.0  1.0  0.0   \n",
       "2010       0.0  0.0  1.0  0.0   \n",
       "919        0.0  0.0  1.0  0.0   \n",
       "918        0.0  0.0  1.0  0.0   \n",
       "\n",
       "                                                  title  subreddit  \n",
       "1685  Collin Sexton makes incredible shot from building          2  \n",
       "1044  Kobe crosses Matt Barnes then hits the jumper,...          1  \n",
       "2010     Over or Under 3 National TV games this season?          2  \n",
       "919   Daily Off Season Lakers Discussion Thread - Se...          1  \n",
       "918   Former Cavs sideline reporter Allie Clifton wi...          1  "
      ]
     },
     "execution_count": 40,
     "metadata": {},
     "output_type": "execute_result"
    }
   ],
   "source": [
    "vader.sort_values(by='neu', ascending=False).head(5)"
   ]
  },
  {
   "cell_type": "markdown",
   "metadata": {},
   "source": [
    "## Multinomial Naive Bayes looks like the best option.  What can we do to make the fit better"
   ]
  },
  {
   "cell_type": "code",
   "execution_count": 41,
   "metadata": {},
   "outputs": [
    {
     "data": {
      "text/plain": [
       "(0.9834096109839817, 0.8147512864493996)"
      ]
     },
     "execution_count": 41,
     "metadata": {},
     "output_type": "execute_result"
    }
   ],
   "source": [
    "pipe = Pipeline([\n",
    "      ('cv', CountVectorizer(stop_words='english', ngram_range=(1,2))),\n",
    "      ('mnb', MultinomialNB())\n",
    "    ])\n",
    "\n",
    "pipe.fit(X_train, y_train)\n",
    "pipe.score(X_train, y_train), pipe.score(X_test, y_test)"
   ]
  },
  {
   "cell_type": "code",
   "execution_count": 42,
   "metadata": {},
   "outputs": [
    {
     "data": {
      "text/plain": [
       "(0.9090389016018307, 0.8198970840480274)"
      ]
     },
     "execution_count": 42,
     "metadata": {},
     "output_type": "execute_result"
    }
   ],
   "source": [
    "pipe = Pipeline([\n",
    "      ('cv', CountVectorizer(stop_words='english', ngram_range=(1,2), min_df=2)),\n",
    "      ('mnb', MultinomialNB())\n",
    "    ])\n",
    "\n",
    "pipe.fit(X_train, y_train)\n",
    "pipe.score(X_train, y_train), pipe.score(X_test, y_test)"
   ]
  },
  {
   "cell_type": "code",
   "execution_count": 43,
   "metadata": {},
   "outputs": [
    {
     "data": {
      "text/plain": [
       "(0.898741418764302, 0.8198970840480274)"
      ]
     },
     "execution_count": 43,
     "metadata": {},
     "output_type": "execute_result"
    }
   ],
   "source": [
    "pipe = Pipeline([\n",
    "      ('cv', CountVectorizer(stop_words='english', ngram_range=(1,2), min_df=2)),\n",
    "      ('mnb', MultinomialNB(alpha=2))\n",
    "    ])\n",
    "\n",
    "pipe.fit(X_train, y_train)\n",
    "pipe.score(X_train, y_train), pipe.score(X_test, y_test)"
   ]
  },
  {
   "cell_type": "code",
   "execution_count": 44,
   "metadata": {},
   "outputs": [
    {
     "name": "stdout",
     "output_type": "stream",
     "text": [
      "Predicted    0    1    2\n",
      "Actual                  \n",
      "0          147   33   11\n",
      "1           18  173   13\n",
      "2           12   18  158\n",
      "\n",
      " \n",
      "\n",
      "             precision    recall  f1-score   support\n",
      "\n",
      "          0       0.83      0.77      0.80       191\n",
      "          1       0.77      0.85      0.81       204\n",
      "          2       0.87      0.84      0.85       188\n",
      "\n",
      "avg / total       0.82      0.82      0.82       583\n",
      "\n"
     ]
    }
   ],
   "source": [
    "predicted = pipe.predict(X_test)\n",
    " \n",
    "def printreport(exp, pred):\n",
    "    print(pd.crosstab(exp, pred, rownames=['Actual'], colnames=['Predicted']))\n",
    " \n",
    "    print('\\n \\n')\n",
    "    print(classification_report(exp, pred))\n",
    " \n",
    "printreport(y_test, predicted)"
   ]
  },
  {
   "cell_type": "code",
   "execution_count": 45,
   "metadata": {},
   "outputs": [
    {
     "data": {
      "text/plain": [
       "0.8198970840480274"
      ]
     },
     "execution_count": 45,
     "metadata": {},
     "output_type": "execute_result"
    }
   ],
   "source": [
    "metrics.accuracy_score(y_test, predicted)"
   ]
  },
  {
   "cell_type": "code",
   "execution_count": null,
   "metadata": {},
   "outputs": [],
   "source": []
  }
 ],
 "metadata": {
  "kernelspec": {
   "display_name": "Python 3",
   "language": "python",
   "name": "python3"
  },
  "language_info": {
   "codemirror_mode": {
    "name": "ipython",
    "version": 3
   },
   "file_extension": ".py",
   "mimetype": "text/x-python",
   "name": "python",
   "nbconvert_exporter": "python",
   "pygments_lexer": "ipython3",
   "version": "3.6.5"
  }
 },
 "nbformat": 4,
 "nbformat_minor": 2
}
